{
  "nbformat": 4,
  "nbformat_minor": 0,
  "metadata": {
    "colab": {
      "provenance": [],
      "include_colab_link": true
    },
    "kernelspec": {
      "name": "python3",
      "display_name": "Python 3"
    },
    "language_info": {
      "name": "python"
    }
  },
  "cells": [
    {
      "cell_type": "markdown",
      "metadata": {
        "id": "view-in-github",
        "colab_type": "text"
      },
      "source": [
        "<a href=\"https://colab.research.google.com/github/adityapant1/ML_Practice/blob/main/pytorch_recap.ipynb\" target=\"_parent\"><img src=\"https://colab.research.google.com/assets/colab-badge.svg\" alt=\"Open In Colab\"/></a>"
      ]
    },
    {
      "cell_type": "markdown",
      "source": [
        "# Task : Session 1\n",
        "Solve these questions own your own and try to test yourself what you have learned in the session.\n",
        "\n",
        "Happy Learning!"
      ],
      "metadata": {
        "id": "A05OG15VqOPF"
      }
    },
    {
      "cell_type": "markdown",
      "source": [
        "### Q1 :- Print the given strings as per stated format.\n",
        "\n",
        "**Given strings**:\n",
        "```\n",
        "\"Data\" \"Science\" \"Mentorship\" \"Program\"\n",
        "\"By\" \"CampusX\"\n",
        "```\n",
        "**Output**:\n",
        "```\n",
        "Data-Science-Mentorship-Program-started-By-CampusX\n",
        "```\n",
        "\n",
        "Concept- [Seperator and End]"
      ],
      "metadata": {
        "id": "2doIXf8bqe9_"
      }
    },
    {
      "cell_type": "code",
      "source": [
        "# Write your code here\n",
        "input1=[\"Data\", \"Science\", \"Mentorship\", \"Program\", \"By\", \"CampusX\"]\n",
        "print(input1)\n",
        "print(\"-\".join(input1))"
      ],
      "metadata": {
        "id": "-em6d3KErDtp",
        "colab": {
          "base_uri": "https://localhost:8080/"
        },
        "outputId": "47287ac0-0a64-4333-f2a9-802fa199fee8"
      },
      "execution_count": null,
      "outputs": [
        {
          "output_type": "stream",
          "name": "stdout",
          "text": [
            "['Data', 'Science', 'Mentorship', 'Program', 'By', 'CampusX']\n",
            "Data-Science-Mentorship-Program-By-CampusX\n"
          ]
        }
      ]
    },
    {
      "cell_type": "markdown",
      "source": [
        "### Q2:- Write a program that will convert celsius value to fahrenheit."
      ],
      "metadata": {
        "id": "1KUpN7ZTrC3_"
      }
    },
    {
      "cell_type": "code",
      "source": [
        "# Write your code here\n",
        "celcius = float(input(\"Enter temperature in Celcius: \"))\n",
        "fahrenheit = ((celcius * 9) / 5) + 32\n",
        "print(fahrenheit)"
      ],
      "metadata": {
        "id": "yxKYhYQiqWfj",
        "colab": {
          "base_uri": "https://localhost:8080/"
        },
        "outputId": "07f60dc9-1670-40b3-f5f2-d371b2ba6c68"
      },
      "execution_count": null,
      "outputs": [
        {
          "output_type": "stream",
          "name": "stdout",
          "text": [
            "Enter temperature in Celcius: 90\n",
            "194.0\n"
          ]
        }
      ]
    },
    {
      "cell_type": "markdown",
      "source": [
        "### Q3:- Take 2 numbers as input from the user.Write a program to swap the numbers without using any special python syntax."
      ],
      "metadata": {
        "id": "RLrOBBJurLB2"
      }
    },
    {
      "cell_type": "code",
      "source": [
        "# Write your code here\n",
        "num1 = input(\"Enter first number: \")\n",
        "num2 = input(\"Enter second number: \")\n",
        "num1 = int(num1)\n",
        "num2 = int(num2)\n",
        "num1 = num2 + num1\n",
        "num2 = num1 - num2\n",
        "num1 = num1 - num2\n",
        "print(\"First number now is: \", num1)\n",
        "print(\"Second number now is: \", num2)"
      ],
      "metadata": {
        "id": "yPn7if0TrJ4F",
        "colab": {
          "base_uri": "https://localhost:8080/"
        },
        "outputId": "83e09680-e98a-4e5e-c65a-67f1aa685c1e"
      },
      "execution_count": null,
      "outputs": [
        {
          "output_type": "stream",
          "name": "stdout",
          "text": [
            "Enter first number: 34\n",
            "Enter second number: 21\n",
            "First number now is:  21\n",
            "Second number now is:  34\n"
          ]
        }
      ]
    },
    {
      "cell_type": "markdown",
      "source": [
        "### Q4:- Write a program to find the euclidean distance between two coordinates.Take both the coordinates from the user as input."
      ],
      "metadata": {
        "id": "waLCP1bjr7ML"
      }
    },
    {
      "cell_type": "code",
      "source": [
        "# Write your code here\n",
        "x1 = float(input(\"Enter x1: \"))\n",
        "y1 = float(input(\"Enter y1: \"))\n",
        "x2 = float(input(\"Enter x2: \"))\n",
        "y2 = float(input(\"Enter y2: \"))\n",
        "\n",
        "euclidean_dist = ((x1-x2)**2 + (y1-y2)**2)**(1/2)\n",
        "\n",
        "print(euclidean_dist)"
      ],
      "metadata": {
        "id": "Pl1Sv-xnrxnH",
        "colab": {
          "base_uri": "https://localhost:8080/"
        },
        "outputId": "ef53a017-fda3-43d3-f592-06839e0f1fa3"
      },
      "execution_count": null,
      "outputs": [
        {
          "output_type": "stream",
          "name": "stdout",
          "text": [
            "Enter x1: 1\n",
            "Enter y1: 1\n",
            "Enter x2: 2\n",
            "Enter y2: 2\n",
            "1.4142135623730951\n"
          ]
        }
      ]
    },
    {
      "cell_type": "markdown",
      "source": [
        "### Q5:- Write a program to find the simple interest when the value of principle,rate of interest and time period is provided by the user.\n"
      ],
      "metadata": {
        "id": "VLrhg-FRsHjR"
      }
    },
    {
      "cell_type": "code",
      "source": [
        "# Write your code here\n",
        "principal = float(input(\"Enter Principal: \"))\n",
        "rate = float(input(\"Enter Rate of Interest(in %): \"))\n",
        "time = float(input(\"Enter Time Period (in Years): \"))\n",
        "\n",
        "simple_int = (principal * rate * time) / 100\n",
        "\n",
        "print(\"The simple interest is: \", simple_int)"
      ],
      "metadata": {
        "id": "s40DlReZsTmY",
        "colab": {
          "base_uri": "https://localhost:8080/"
        },
        "outputId": "682f15bc-1c1f-46af-e38f-f18454d5fdef"
      },
      "execution_count": null,
      "outputs": [
        {
          "output_type": "stream",
          "name": "stdout",
          "text": [
            "Enter Principal: 1000\n",
            "Enter Rate of Interest(in %): 5\n",
            "Enter Time Period (in Years): 1\n",
            "The simple interest is:  50.0\n"
          ]
        }
      ]
    },
    {
      "cell_type": "markdown",
      "source": [
        "### Q6:- Write a program that will tell the number of dogs and chicken are there when the user will provide the value of total heads and legs.\n",
        "\n",
        "For example:\n",
        "Input:\n",
        "heads -> 4\n",
        "legs -> 12\n",
        "<br>\n",
        "Output:\n",
        "dogs -> 2\n",
        "chicken -> 2\n",
        "\n",
        "\n",
        "\n"
      ],
      "metadata": {
        "id": "LMy0BTUktYKa"
      }
    },
    {
      "cell_type": "code",
      "source": [
        "# Write your code here\n",
        "headcount = int(input(\"Enter the total number of heads: \"))\n",
        "legcount = int(input(\"Enter the total number of legs: \"))\n",
        "chickencount = int((4 * headcount - legcount)/2)\n",
        "dogcount = int(((-2) * headcount + legcount)/2)\n",
        "\n",
        "print(\"Dogs: \", dogcount)\n",
        "print(\"Chickens: \", chickencount)\n"
      ],
      "metadata": {
        "id": "XSBvJoA4tXaG",
        "colab": {
          "base_uri": "https://localhost:8080/"
        },
        "outputId": "ab655a68-9e82-4b6e-d721-2949f0516bbc"
      },
      "execution_count": null,
      "outputs": [
        {
          "output_type": "stream",
          "name": "stdout",
          "text": [
            "Enter the total number of heads: 4\n",
            "Enter the total number of legs: 12\n",
            "Dogs:  2\n",
            "Chickens:  2\n"
          ]
        }
      ]
    },
    {
      "cell_type": "markdown",
      "source": [
        "### Q7:- Write a program to find the sum of squares of first n natural numbers where n will be provided by the user."
      ],
      "metadata": {
        "id": "gJ7C5kZYt4BP"
      }
    },
    {
      "cell_type": "code",
      "source": [
        "# Write your code here\n",
        "n = int(input(\"Enter n: \"))\n",
        "\n",
        "squared_sum = (n + 1)* (2*n + 1) * n / 6\n",
        "\n",
        "print(squared_sum)"
      ],
      "metadata": {
        "id": "_tHsmEHzt2nX",
        "colab": {
          "base_uri": "https://localhost:8080/"
        },
        "outputId": "755efb72-586f-4c8a-ea4f-c028f8b701ee"
      },
      "execution_count": null,
      "outputs": [
        {
          "output_type": "stream",
          "name": "stdout",
          "text": [
            "Enter n: 3\n",
            "14.0\n"
          ]
        }
      ]
    },
    {
      "cell_type": "markdown",
      "source": [
        "### Q8:- Given the first 2 terms of an Arithmetic Series.Find the Nth term of the series. Assume all inputs are provided by the user."
      ],
      "metadata": {
        "id": "FHrMM7g-yG1h"
      }
    },
    {
      "cell_type": "code",
      "source": [
        "# Write your code here\n",
        "term1 = float(input(\"1st term of Arithmetic Series: \"))\n",
        "term2 = float(input(\"2nd term of Arithmetic Series: \"))\n",
        "\n",
        "n = float(input(\"Enter the value of n: \"))\n",
        "\n",
        "term_nth = term1 + (n-1)* (term2-term1)\n",
        "\n",
        "print(\"The Nth term of the series is: \",term_nth)"
      ],
      "metadata": {
        "id": "go4_kmZmyVSx",
        "colab": {
          "base_uri": "https://localhost:8080/"
        },
        "outputId": "9451ca2f-db2a-4af7-f020-2c40abc1c1a9"
      },
      "execution_count": null,
      "outputs": [
        {
          "output_type": "stream",
          "name": "stdout",
          "text": [
            "1st term of Arithmetic Series: 1\n",
            "2nd term of Arithmetic Series: 3\n",
            "Enter the value of n: 3\n",
            "The Nth term of the series is:  5.0\n"
          ]
        }
      ]
    },
    {
      "cell_type": "markdown",
      "source": [
        "### Q9:- Given 2 fractions, find the sum of those 2 fractions.Take the numerator and denominator values of the fractions from the user."
      ],
      "metadata": {
        "id": "QgyRX_es1oum"
      }
    },
    {
      "cell_type": "code",
      "source": [
        "# Write your code here\n",
        "num1 = float(input(\"numerator of fraction 1: \"))\n",
        "den1 = float(input(\"denominator of fraction 1: \"))\n",
        "num2 = float(input(\"numerator of fraction 2: \"))\n",
        "den2 = float(input(\"denominator of fraction 2: \"))\n",
        "\n",
        "sum = (num1/den1 + num2/den2)\n",
        "\n",
        "print(\"The sum of 2 fractions is: \", sum)"
      ],
      "metadata": {
        "id": "X05xqFS1yW16",
        "colab": {
          "base_uri": "https://localhost:8080/"
        },
        "outputId": "f31e0e18-7836-4c97-f052-c6810286630f"
      },
      "execution_count": null,
      "outputs": [
        {
          "output_type": "stream",
          "name": "stdout",
          "text": [
            "numerator of fraction 1: 1\n",
            "denominator of fraction 1: 2\n",
            "numerator of fraction 2: 3\n",
            "denominator of fraction 2: 4\n",
            "The sum of 2 fractions is:  1.25\n"
          ]
        }
      ]
    },
    {
      "cell_type": "markdown",
      "source": [
        "### Q10:- Given the height, width and breadth of a milk tank, you have to find out how many glasses of milk can be obtained? Assume all the inputs are provided by the user.\n",
        "\n",
        "\n",
        "\n",
        "Input:<br>\n",
        "Dimensions of the milk tank<br>\n",
        "H = 20cm, L = 20cm, B = 20cm\n",
        "<br><br>\n",
        "Dimensions of the glass<br>\n",
        "h = 3cm, r = 1cm"
      ],
      "metadata": {
        "id": "eaql38ln13u7"
      }
    },
    {
      "cell_type": "code",
      "source": [
        "# Write your code here\n",
        "print(\"Enter the Dimensions of hte milk tank:\")\n",
        "H = float(input(\"Height (in cm): \"))\n",
        "L = float(input(\"Length (in cm): \"))\n",
        "B = float(input(\"Breadth (in cm): \"))\n",
        "\n",
        "print(\"Enter the Dimensions of the glass:\")\n",
        "h = float(input(\"Height (in cm): \"))\n",
        "r = float(input(\"radius (in cm): \"))\n",
        "\n",
        "vol_milk_tank = H * L * B\n",
        "vol_glass = 3.14 * (r**2) * h\n",
        "\n",
        "no_of_milk_glass = vol_milk_tank / vol_glass\n",
        "\n",
        "print(\"The number of milk glasses obtained: \", int(no_of_milk_glass))"
      ],
      "metadata": {
        "id": "FePZqno74eWv",
        "colab": {
          "base_uri": "https://localhost:8080/"
        },
        "outputId": "19096210-540c-4b3a-82a3-4fab54182d82"
      },
      "execution_count": null,
      "outputs": [
        {
          "output_type": "stream",
          "name": "stdout",
          "text": [
            "Enter the Dimensions of hte milk tank:\n",
            "Height (in cm): 20\n",
            "Length (in cm): 20\n",
            "Breadth (in cm): 20\n",
            "Enter the Dimensions of the glass:\n",
            "Height (in cm): 3\n",
            "radius (in cm): 1\n",
            "The number of milk glasses obtained:  849.2569002123142\n"
          ]
        }
      ]
    }
  ]
}