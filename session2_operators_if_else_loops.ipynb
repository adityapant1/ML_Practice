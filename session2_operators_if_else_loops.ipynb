{
  "nbformat": 4,
  "nbformat_minor": 0,
  "metadata": {
    "colab": {
      "provenance": [],
      "include_colab_link": true
    },
    "kernelspec": {
      "name": "python3",
      "display_name": "Python 3"
    },
    "language_info": {
      "name": "python"
    }
  },
  "cells": [
    {
      "cell_type": "markdown",
      "metadata": {
        "id": "view-in-github",
        "colab_type": "text"
      },
      "source": [
        "<a href=\"https://colab.research.google.com/github/adityapant1/ML_Practice/blob/main/session2_operators_if_else_loops.ipynb\" target=\"_parent\"><img src=\"https://colab.research.google.com/assets/colab-badge.svg\" alt=\"Open In Colab\"/></a>"
      ]
    },
    {
      "cell_type": "markdown",
      "source": [
        "# Operators in Python\n",
        "\n",
        "- Arithmetic Operators\n",
        "- Relational Operators\n",
        "- Logical Operators\n",
        "- Bitwise Operators\n",
        "- Assignment Operators\n",
        "- Membership Operators"
      ],
      "metadata": {
        "id": "y1HMD4oI7FL7"
      }
    },
    {
      "cell_type": "code",
      "source": [
        "# Arithmetric Operators\n",
        "print(5+6)\n",
        "\n",
        "print(5-6)\n",
        "\n",
        "print(5*6)\n",
        "\n",
        "print(5/2)\n",
        "\n",
        "print(5//2)\n",
        "\n",
        "print(5%2)\n",
        "\n",
        "print(5**2)"
      ],
      "metadata": {
        "id": "a7cegk-f7U4-",
        "colab": {
          "base_uri": "https://localhost:8080/"
        },
        "outputId": "659da56f-e614-4602-afad-e3900f589022"
      },
      "execution_count": 1,
      "outputs": [
        {
          "output_type": "stream",
          "name": "stdout",
          "text": [
            "11\n",
            "-1\n",
            "30\n",
            "2.5\n",
            "2\n",
            "1\n",
            "25\n"
          ]
        }
      ]
    },
    {
      "cell_type": "code",
      "source": [
        "# Relational Operators\n",
        "print(4>5)\n",
        "\n",
        "print(4<5)\n",
        "\n",
        "print(4>=4)\n",
        "\n",
        "print(4<=4)\n",
        "\n",
        "print(4==4)\n",
        "\n",
        "print(4!=4)"
      ],
      "metadata": {
        "id": "TMIQKhFd7Y5A",
        "colab": {
          "base_uri": "https://localhost:8080/"
        },
        "outputId": "3afe3b83-d2f9-4d82-c1f2-c5374fe571c2"
      },
      "execution_count": 2,
      "outputs": [
        {
          "output_type": "stream",
          "name": "stdout",
          "text": [
            "False\n",
            "True\n",
            "True\n",
            "True\n",
            "True\n",
            "False\n"
          ]
        }
      ]
    },
    {
      "cell_type": "code",
      "source": [
        "# Logical Operators\n",
        "print(1 and 0)\n",
        "\n",
        "print(1 or 0)\n",
        "\n",
        "print(not 1)"
      ],
      "metadata": {
        "id": "vyxdjDbc7avq",
        "colab": {
          "base_uri": "https://localhost:8080/"
        },
        "outputId": "2b428b89-c158-46e3-9054-61c2662652e6"
      },
      "execution_count": 3,
      "outputs": [
        {
          "output_type": "stream",
          "name": "stdout",
          "text": [
            "0\n",
            "1\n",
            "False\n"
          ]
        }
      ]
    },
    {
      "cell_type": "code",
      "source": [
        "# Bitwise Operators\n",
        "\n",
        "# bitwise and\n",
        "print(2 & 3)\n",
        "\n",
        "# bitwise or\n",
        "print(2 | 3)\n",
        "\n",
        "# bitwise xor\n",
        "print(2 ^ 3)\n",
        "\n",
        "print(~3)\n",
        "\n",
        "print(4 >> 2)\n",
        "\n",
        "print(5 << 2)"
      ],
      "metadata": {
        "id": "H4KzpSke7d9l",
        "colab": {
          "base_uri": "https://localhost:8080/"
        },
        "outputId": "5832a648-6430-425c-8fa7-8dbad5d8d4b3"
      },
      "execution_count": null,
      "outputs": [
        {
          "output_type": "stream",
          "name": "stdout",
          "text": [
            "2\n",
            "3\n",
            "1\n",
            "-4\n",
            "1\n",
            "20\n"
          ]
        }
      ]
    },
    {
      "cell_type": "code",
      "source": [
        "# Assignment Operators\n",
        "\n",
        "# = \n",
        "# a = 2\n",
        "\n",
        "a = 2\n",
        "\n",
        "# a = a % 2\n",
        "a %= 2\n",
        "\n",
        "# a++ ++a\n",
        "\n",
        "print(a)"
      ],
      "metadata": {
        "id": "8EEm8eHO7gD_",
        "colab": {
          "base_uri": "https://localhost:8080/"
        },
        "outputId": "a421f118-2ee3-42da-91ff-3cd06de41755"
      },
      "execution_count": null,
      "outputs": [
        {
          "output_type": "stream",
          "name": "stdout",
          "text": [
            "4\n"
          ]
        }
      ]
    },
    {
      "cell_type": "code",
      "source": [
        "# Membership Operators\n",
        "\n",
        "# in/not in\n",
        "\n",
        "print('D' not in 'Delhi')\n",
        "\n",
        "print(1 in [2,3,4,5,6])"
      ],
      "metadata": {
        "id": "LzrIz7I87h-W",
        "colab": {
          "base_uri": "https://localhost:8080/"
        },
        "outputId": "d362a8a0-bbae-406f-bd33-fc6fe789e889"
      },
      "execution_count": null,
      "outputs": [
        {
          "output_type": "stream",
          "name": "stdout",
          "text": [
            "False\n",
            "False\n"
          ]
        }
      ]
    },
    {
      "cell_type": "code",
      "source": [
        "# Program - Find the sum of a 3 digit number entered by the user\n",
        "\n",
        "number = int(input('Enter a 3 digit number'))\n",
        "\n",
        "# 345%10 -> 5\n",
        "a = number%10\n",
        "\n",
        "number = number//10\n",
        "\n",
        "# 34%10 -> 4\n",
        "b = number % 10\n",
        "\n",
        "number = number//10\n",
        "# 3 % 10 -> 3\n",
        "c = number % 10\n",
        "\n",
        "print(a + b + c)"
      ],
      "metadata": {
        "id": "C-LoVrYGDEuB",
        "colab": {
          "base_uri": "https://localhost:8080/"
        },
        "outputId": "ccecd9fc-953e-4c81-8a06-76f32de03f86"
      },
      "execution_count": 4,
      "outputs": [
        {
          "output_type": "stream",
          "name": "stdout",
          "text": [
            "Enter a 3 digit number345\n",
            "12\n"
          ]
        }
      ]
    },
    {
      "cell_type": "markdown",
      "source": [
        "# If-else in Python"
      ],
      "metadata": {
        "id": "Iq7CzVFs7mWT"
      }
    },
    {
      "cell_type": "code",
      "source": [
        "# login program and indentation\n",
        "# email -> nitish.campusx@gmail.com\n",
        "# password -> 1234\n",
        "\n",
        "email = input('enter email')\n",
        "password = input('enter password')\n",
        "\n",
        "if email == 'nitish.campusx@gmail.com' and password == '1234':\n",
        "  print('Welcome')\n",
        "elif email == 'nitish.campusx@gmail.com' and password != '1234':\n",
        "  # tell the user\n",
        "  print('Incorrect password')\n",
        "  password = input('enter password again')\n",
        "  if password == '1234':\n",
        "    print('Welcome,finally!')\n",
        "  else:\n",
        "    print('beta tumse na ho paayega!')\n",
        "else:\n",
        "  print('Not correct')"
      ],
      "metadata": {
        "id": "dGz-83pN7oxe",
        "colab": {
          "base_uri": "https://localhost:8080/"
        },
        "outputId": "51cfcfd6-edd0-4920-c3e4-6a0c9390414c"
      },
      "execution_count": 1,
      "outputs": [
        {
          "output_type": "stream",
          "name": "stdout",
          "text": [
            "enter emailadityapant1@gmail.com\n",
            "enter passwordabc123#\n",
            "Not correct\n"
          ]
        }
      ]
    },
    {
      "cell_type": "code",
      "source": [
        "# if-else examples\n",
        "# 1. Find the min of 3 given numbers\n",
        "# 2. Menu Driven Program"
      ],
      "metadata": {
        "id": "qo_1tY2ABlAX"
      },
      "execution_count": null,
      "outputs": []
    },
    {
      "cell_type": "code",
      "source": [
        "# min of 3 number\n",
        "\n",
        "a = int(input('first num'))\n",
        "b = int(input('second num'))\n",
        "c = int(input('third num'))\n",
        "\n",
        "if a<b and a<c:\n",
        "  print('smallest is',a)\n",
        "elif b<c:\n",
        "  print('smallest is',b)\n",
        "else:\n",
        "  print('smallest is',c)"
      ],
      "metadata": {
        "colab": {
          "base_uri": "https://localhost:8080/",
          "height": 252
        },
        "id": "gQpTJbMH3W6_",
        "outputId": "70fc439b-f28c-4bee-8345-e32d3d882fe5"
      },
      "execution_count": 3,
      "outputs": [
        {
          "name": "stdout",
          "output_type": "stream",
          "text": [
            "first num4.3\n"
          ]
        },
        {
          "output_type": "error",
          "ename": "ValueError",
          "evalue": "ignored",
          "traceback": [
            "\u001b[0;31m---------------------------------------------------------------------------\u001b[0m",
            "\u001b[0;31mValueError\u001b[0m                                Traceback (most recent call last)",
            "\u001b[0;32m<ipython-input-3-be9e85e9defe>\u001b[0m in \u001b[0;36m<module>\u001b[0;34m\u001b[0m\n\u001b[1;32m      1\u001b[0m \u001b[0;31m# min of 3 number\u001b[0m\u001b[0;34m\u001b[0m\u001b[0;34m\u001b[0m\u001b[0;34m\u001b[0m\u001b[0m\n\u001b[1;32m      2\u001b[0m \u001b[0;34m\u001b[0m\u001b[0m\n\u001b[0;32m----> 3\u001b[0;31m \u001b[0ma\u001b[0m \u001b[0;34m=\u001b[0m \u001b[0mint\u001b[0m\u001b[0;34m(\u001b[0m\u001b[0minput\u001b[0m\u001b[0;34m(\u001b[0m\u001b[0;34m'first num'\u001b[0m\u001b[0;34m)\u001b[0m\u001b[0;34m)\u001b[0m\u001b[0;34m\u001b[0m\u001b[0;34m\u001b[0m\u001b[0m\n\u001b[0m\u001b[1;32m      4\u001b[0m \u001b[0mb\u001b[0m \u001b[0;34m=\u001b[0m \u001b[0mint\u001b[0m\u001b[0;34m(\u001b[0m\u001b[0minput\u001b[0m\u001b[0;34m(\u001b[0m\u001b[0;34m'second num'\u001b[0m\u001b[0;34m)\u001b[0m\u001b[0;34m)\u001b[0m\u001b[0;34m\u001b[0m\u001b[0;34m\u001b[0m\u001b[0m\n\u001b[1;32m      5\u001b[0m \u001b[0mc\u001b[0m \u001b[0;34m=\u001b[0m \u001b[0mint\u001b[0m\u001b[0;34m(\u001b[0m\u001b[0minput\u001b[0m\u001b[0;34m(\u001b[0m\u001b[0;34m'third num'\u001b[0m\u001b[0;34m)\u001b[0m\u001b[0;34m)\u001b[0m\u001b[0;34m\u001b[0m\u001b[0;34m\u001b[0m\u001b[0m\n",
            "\u001b[0;31mValueError\u001b[0m: invalid literal for int() with base 10: '4.3'"
          ]
        }
      ]
    },
    {
      "cell_type": "code",
      "source": [
        "# menu driven calculator\n",
        "menu = input(\"\"\"\n",
        "Hi! how can I help you.\n",
        "1. Enter 1 for pin change\n",
        "2. Enter 2 for balance check\n",
        "3. Enter 3 for withdrawl\n",
        "4. Enter 4 for exit\n",
        "\"\"\")\n",
        "\n",
        "if menu == '1':\n",
        "  print('pin change')\n",
        "elif menu == '2':\n",
        "  print('balance')\n",
        "else:\n",
        "  print('exit')"
      ],
      "metadata": {
        "colab": {
          "base_uri": "https://localhost:8080/"
        },
        "id": "hgNqlC5C4jqF",
        "outputId": "d9a4e001-985d-46fe-fdf4-2767dde7d340"
      },
      "execution_count": null,
      "outputs": [
        {
          "output_type": "stream",
          "name": "stdout",
          "text": [
            "\n",
            "Hi! how can I help you.\n",
            "1. Enter 1 for pin change\n",
            "2. Enter 2 for balance check\n",
            "3. Enter 3 for withdrawl\n",
            "4. Enter 4 for exit\n",
            "2\n",
            "balance\n"
          ]
        }
      ]
    },
    {
      "cell_type": "markdown",
      "source": [
        "# Modules in Python\n",
        "\n",
        "- math\n",
        "- keywords\n",
        "- random\n",
        "- datetime"
      ],
      "metadata": {
        "id": "532_6mva8A6C"
      }
    },
    {
      "cell_type": "code",
      "source": [
        "# math\n",
        "import math\n",
        "\n",
        "math.sqrt(196)"
      ],
      "metadata": {
        "id": "x5VXt7wv8G4o",
        "colab": {
          "base_uri": "https://localhost:8080/"
        },
        "outputId": "0f191ca5-e4c3-4c79-ecf2-dcbd23cbd770"
      },
      "execution_count": null,
      "outputs": [
        {
          "output_type": "execute_result",
          "data": {
            "text/plain": [
              "14.0"
            ]
          },
          "metadata": {},
          "execution_count": 61
        }
      ]
    },
    {
      "cell_type": "code",
      "source": [
        "# keyword\n",
        "import keyword\n",
        "print(keyword.kwlist)"
      ],
      "metadata": {
        "id": "FLgAX9pz8HBT",
        "colab": {
          "base_uri": "https://localhost:8080/"
        },
        "outputId": "63de6b39-b796-475b-9b7d-fa22f2019c90"
      },
      "execution_count": null,
      "outputs": [
        {
          "output_type": "stream",
          "name": "stdout",
          "text": [
            "['False', 'None', 'True', 'and', 'as', 'assert', 'async', 'await', 'break', 'class', 'continue', 'def', 'del', 'elif', 'else', 'except', 'finally', 'for', 'from', 'global', 'if', 'import', 'in', 'is', 'lambda', 'nonlocal', 'not', 'or', 'pass', 'raise', 'return', 'try', 'while', 'with', 'yield']\n"
          ]
        }
      ]
    },
    {
      "cell_type": "code",
      "source": [
        "# random\n",
        "import random\n",
        "print(random.randint(1,100))"
      ],
      "metadata": {
        "id": "R0dWpe-w8HSZ",
        "colab": {
          "base_uri": "https://localhost:8080/"
        },
        "outputId": "3aa87b74-0699-47d7-8316-73de80dbfeb1"
      },
      "execution_count": null,
      "outputs": [
        {
          "output_type": "stream",
          "name": "stdout",
          "text": [
            "88\n"
          ]
        }
      ]
    },
    {
      "cell_type": "code",
      "source": [
        "# datetime\n",
        "import datetime\n",
        "print(datetime.datetime.now())"
      ],
      "metadata": {
        "colab": {
          "base_uri": "https://localhost:8080/"
        },
        "id": "XNHWXsM0iFn3",
        "outputId": "7d219248-ba98-4b2e-a382-57630acea35c"
      },
      "execution_count": null,
      "outputs": [
        {
          "output_type": "stream",
          "name": "stdout",
          "text": [
            "2022-11-08 15:50:21.228643\n"
          ]
        }
      ]
    },
    {
      "cell_type": "code",
      "source": [
        "help('modules')"
      ],
      "metadata": {
        "colab": {
          "base_uri": "https://localhost:8080/"
        },
        "id": "ePMxrlzX8CsQ",
        "outputId": "2dd6c1aa-6d3f-40d6-e159-de3a5feda8de"
      },
      "execution_count": 4,
      "outputs": [
        {
          "output_type": "stream",
          "name": "stdout",
          "text": [
            "\n",
            "Please wait a moment while I gather a list of all available modules...\n",
            "\n"
          ]
        },
        {
          "output_type": "stream",
          "name": "stderr",
          "text": [
            "/usr/local/lib/python3.7/dist-packages/IPython/kernel/__init__.py:13: ShimWarning: The `IPython.kernel` package has been deprecated since IPython 4.0.You should import from ipykernel or jupyter_client instead.\n",
            "  \"You should import from ipykernel or jupyter_client instead.\", ShimWarning)\n",
            "/usr/local/lib/python3.7/dist-packages/llvmlite/llvmpy/__init__.py:4: UserWarning: The module `llvmlite.llvmpy` is deprecated and will be removed in the future.\n",
            "  \"The module `llvmlite.llvmpy` is deprecated and will be removed in the \"\n",
            "/usr/local/lib/python3.7/dist-packages/llvmlite/llvmpy/core.py:9: UserWarning: The module `llvmlite.llvmpy.core` is deprecated and will be removed in the future. Equivalent functionality is provided by `llvmlite.ir`.\n",
            "  \"The module `llvmlite.llvmpy.core` is deprecated and will be removed in \"\n",
            "WARNING: AstropyDeprecationWarning: The private astropy._erfa module has been made into its own package, pyerfa, which is a dependency of astropy and can be imported directly using \"import erfa\" [astropy._erfa]\n",
            "WARNING:astropy:AstropyDeprecationWarning: The private astropy._erfa module has been made into its own package, pyerfa, which is a dependency of astropy and can be imported directly using \"import erfa\"\n",
            "/usr/local/lib/python3.7/dist-packages/caffe2/__init__.py:5: UserWarning: Caffe2 support is not fully enabled in this PyTorch build. Please enable Caffe2 by building PyTorch from source with `BUILD_CAFFE2=1` flag.\n",
            "  warnings.warn(\"Caffe2 support is not fully enabled in this PyTorch build. \"\n",
            "/usr/local/lib/python3.7/dist-packages/caffe2/proto/__init__.py:17: UserWarning: Caffe2 support is not enabled in this PyTorch build. Please enable Caffe2 by building PyTorch from source with `BUILD_CAFFE2=1` flag.\n",
            "  warnings.warn('Caffe2 support is not enabled in this PyTorch build. '\n",
            "/usr/local/lib/python3.7/dist-packages/caffe2/proto/__init__.py:17: UserWarning: Caffe2 support is not enabled in this PyTorch build. Please enable Caffe2 by building PyTorch from source with `BUILD_CAFFE2=1` flag.\n",
            "  warnings.warn('Caffe2 support is not enabled in this PyTorch build. '\n",
            "/usr/local/lib/python3.7/dist-packages/caffe2/python/__init__.py:9: UserWarning: Caffe2 support is not enabled in this PyTorch build. Please enable Caffe2 by building PyTorch from source with `BUILD_CAFFE2=1` flag.\n",
            "  warnings.warn('Caffe2 support is not enabled in this PyTorch build. '\n",
            "/usr/local/lib/python3.7/dist-packages/past/types/oldstr.py:5: DeprecationWarning:\n",
            "\n",
            "Using or importing the ABCs from 'collections' instead of from 'collections.abc' is deprecated since Python 3.3,and in 3.9 it will stop working\n",
            "\n",
            "/usr/local/lib/python3.7/dist-packages/intervaltree/intervaltree.py:37: DeprecationWarning:\n",
            "\n",
            "Using or importing the ABCs from 'collections' instead of from 'collections.abc' is deprecated since Python 3.3,and in 3.9 it will stop working\n",
            "\n",
            "/usr/local/lib/python3.7/dist-packages/jupyter_client/ssh/tunnel.py:57: DeprecationWarning:\n",
            "\n",
            "zmq.utils.strtypes is deprecated in pyzmq 23.\n",
            "\n",
            "/usr/local/lib/python3.7/dist-packages/librosa/core/constantq.py:1059: DeprecationWarning:\n",
            "\n",
            "`np.complex` is a deprecated alias for the builtin `complex`. To silence this warning, use `complex` by itself. Doing this will not modify any behavior and is safe. If you specifically wanted the numpy scalar type, use `np.complex128` here.\n",
            "Deprecated in NumPy 1.20; for more details and guidance: https://numpy.org/devdocs/release/1.20.0-notes.html#deprecations\n",
            "\n"
          ]
        },
        {
          "output_type": "stream",
          "name": "stdout",
          "text": [
            "Downloading http://dlib.net/files/shape_predictor_68_face_landmarks.dat.bz2 to /root/mlxtend_data/shape_predictor_68_face_landmarks.dat.bz2\n"
          ]
        },
        {
          "output_type": "stream",
          "name": "stderr",
          "text": [
            "/usr/local/lib/python3.7/dist-packages/nbconvert/filters/strings.py:22: DeprecationWarning:\n",
            "\n",
            "defusedxml.cElementTree is deprecated, import from defusedxml.ElementTree instead.\n",
            "\n",
            "/usr/local/lib/python3.7/dist-packages/nibabel/quaternions.py:31: DeprecationWarning:\n",
            "\n",
            "`np.float` is a deprecated alias for the builtin `float`. To silence this warning, use `float` by itself. Doing this will not modify any behavior and is safe. If you specifically wanted the numpy scalar type, use `np.float64` here.\n",
            "Deprecated in NumPy 1.20; for more details and guidance: https://numpy.org/devdocs/release/1.20.0-notes.html#deprecations\n",
            "\n",
            "/usr/lib/python3.7/pkgutil.py:92: UserWarning:\n",
            "\n",
            "The DICOM readers are highly experimental, unstable, and only work for Siemens time-series at the moment\n",
            "Please use with caution.  We would be grateful for your help in improving them\n",
            "\n",
            "/usr/local/lib/python3.7/dist-packages/nltk/twitter/__init__.py:21: UserWarning:\n",
            "\n",
            "The twython library has not been installed. Some functionality from the twitter package will not be available.\n",
            "\n",
            "/usr/local/lib/python3.7/dist-packages/pip/_vendor/packaging/version.py:130: DeprecationWarning:\n",
            "\n",
            "Creating a LegacyVersion has been deprecated and will be removed in the next major release\n",
            "\n",
            "/usr/local/lib/python3.7/dist-packages/pip/_vendor/packaging/version.py:130: DeprecationWarning:\n",
            "\n",
            "Creating a LegacyVersion has been deprecated and will be removed in the next major release\n",
            "\n",
            "/usr/lib/python3.7/pkgutil.py:92: UserWarning: Viewer requires Qt\n",
            "/usr/local/lib/python3.7/dist-packages/sphinx/websupport/__init__.py:25: RemovedInSphinx20Warning: sphinx.websupport module is now provided as sphinxcontrib-websupport. sphinx.websupport will be removed at Sphinx-2.0. Please use the package instead.\n",
            "/usr/local/lib/python3.7/dist-packages/marshmallow/fields.py:573: RemovedInMarshmallow4Warning: The 'missing' argument to fields is deprecated. Use 'load_default' instead.\n",
            "/usr/local/lib/python3.7/dist-packages/tensorboard/_vendor/html5lib/filters/sanitizer.py:29: DeprecationWarning: html5lib's sanitizer is deprecated; see https://github.com/html5lib/html5lib-python/issues/443 and please let us know if Bleach is unsuitable for your needs\n",
            "/usr/local/lib/python3.7/dist-packages/torch/distributed/_sharded_tensor/__init__.py:10: DeprecationWarning: torch.distributed._sharded_tensor will be deprecated, use torch.distributed._shard.sharded_tensor instead\n",
            "/usr/local/lib/python3.7/dist-packages/torch/distributed/_sharding_spec/__init__.py:10: DeprecationWarning: torch.distributed._sharding_spec will be deprecated, use torch.distributed._shard.sharding_spec instead\n"
          ]
        },
        {
          "output_type": "stream",
          "name": "stdout",
          "text": [
            "No CUDA runtime is found, using CUDA_HOME='/usr/local/cuda'\n"
          ]
        },
        {
          "output_type": "stream",
          "name": "stderr",
          "text": [
            "/usr/lib/python3.7/pkgutil.py:107: VisibleDeprecationWarning: zmq.eventloop.minitornado is deprecated in pyzmq 14.0 and will be removed.\n",
            "    Install tornado itself to use zmq with the tornado IOLoop.\n",
            "    \n"
          ]
        },
        {
          "output_type": "stream",
          "name": "stdout",
          "text": [
            "Cython              colorcet            jupyterlab_widgets  reprlib\n",
            "IPython             colorlover          kaggle              requests\n",
            "OpenGL              colorsys            kanren              requests_oauthlib\n",
            "PIL                 community           kapre               resampy\n",
            "ScreenResolution    compileall          keras               resource\n",
            "__future__          concurrent          keras_preprocessing rlcompleter\n",
            "_abc                confection          keyword             rmagic\n",
            "_ast                configparser        kiwisolver          rpy2\n",
            "_asyncio            cons                korean_lunar_calendar rsa\n",
            "_bisect             contextlib          langcodes           runpy\n",
            "_blake2             contextlib2         lib2to3             sched\n",
            "_bootlocale         contextvars         libfuturize         scipy\n",
            "_bz2                convertdate         libpasteurize       scs\n",
            "_cffi_backend       copy                librosa             seaborn\n",
            "_codecs             copyreg             lightgbm            secrets\n",
            "_codecs_cn          crashtest           linecache           select\n",
            "_codecs_hk          crcmod              llvmlite            selectors\n",
            "_codecs_iso2022     crypt               lmdb                send2trash\n",
            "_codecs_jp          csimdjson           locale              setuptools\n",
            "_codecs_kr          csv                 locket              setuptools_git\n",
            "_codecs_tw          ctypes              logging             shapely\n",
            "_collections        cufflinks           lsb_release         shelve\n",
            "_collections_abc    curses              lunarcalendar       shlex\n",
            "_compat_pickle      cv2                 lxml                shutil\n",
            "_compression        cvxopt              lzma                signal\n",
            "_contextvars        cvxpy               macpath             simdjson\n",
            "_crypt              cycler              mailbox             site\n",
            "_csv                cymem               mailcap             sitecustomize\n",
            "_ctypes             cython              markdown            six\n",
            "_ctypes_test        cythonmagic         markupsafe          skimage\n",
            "_curses             daft                marshal             sklearn\n",
            "_curses_panel       dask                marshmallow         sklearn_pandas\n",
            "_cvxcore            dataclasses         math                slugify\n",
            "_datetime           datascience         matplotlib          smart_open\n",
            "_dbm                datetime            matplotlib_venn     smtpd\n",
            "_decimal            dateutil            mimetypes           smtplib\n",
            "_distutils_hack     db_dtypes           missingno           sndhdr\n",
            "_dlib_pybind11      dbm                 mistune             snowballstemmer\n",
            "_dummy_thread       dbus                mizani              socket\n",
            "_ecos               debugpy             mlxtend             socketserver\n",
            "_elementtree        decimal             mmap                socks\n",
            "_functools          decorator           modulefinder        sockshandler\n",
            "_hashlib            defusedxml          more_itertools      softwareproperties\n",
            "_heapq              descartes           moviepy             sortedcontainers\n",
            "_imp                difflib             mpmath              soundfile\n",
            "_io                 dill                msgpack             spacy\n",
            "_json               dis                 multidict           spacy_legacy\n",
            "_locale             distributed         multipledispatch    spacy_loggers\n",
            "_lsprof             distutils           multiprocessing     sphinx\n",
            "_lzma               dlib                multitasking        spwd\n",
            "_markupbase         dns                 murmurhash          sql\n",
            "_md5                docs                music21             sqlalchemy\n",
            "_multibytecodec     doctest             natsort             sqlite3\n",
            "_multiprocessing    docutils            nbconvert           sqlparse\n",
            "_opcode             dopamine            nbformat            sre_compile\n",
            "_operator           dot_parser          netCDF4             sre_constants\n",
            "_osx_support        dummy_threading     netrc               sre_parse\n",
            "_pickle             easydict            networkx            srsly\n",
            "_plotly_future_     ecos                nibabel             ssl\n",
            "_plotly_utils       editdistance        nis                 stan\n",
            "_posixsubprocess    ee                  nisext              stat\n",
            "_py_abc             email               nltk                statistics\n",
            "_pydecimal          en_core_web_sm      nntplib             statsmodels\n",
            "_pyio               encodings           notebook            storemagic\n",
            "_pyrsistent_version entrypoints         ntpath              string\n",
            "_pytest             enum                nturl2path          stringprep\n",
            "_queue              ephem               numba               struct\n",
            "_random             erfa                numbergen           subprocess\n",
            "_rinterface_cffi_abi errno               numbers             sunau\n",
            "_rinterface_cffi_api et_xmlfile          numexpr             symbol\n",
            "_scs_direct         etils               numpy               sympy\n",
            "_scs_indirect       etuples             oauth2client        sympyprinting\n",
            "_sha1               fa2                 oauthlib            symtable\n",
            "_sha256             fastai              ogr                 sys\n",
            "_sha3               fastcore            okgrade             sysconfig\n",
            "_sha512             fastdownload        opcode              syslog\n",
            "_signal             fastdtw             openpyxl            tables\n",
            "_sitebuiltins       fastjsonschema      operator            tabnanny\n",
            "_socket             fastprogress        opt_einsum          tabulate\n",
            "_soundfile          fastrlock           optparse            tarfile\n",
            "_sqlite3            faulthandler        os                  tblib\n",
            "_sre                fcntl               osgeo               telnetlib\n",
            "_ssl                feather             osqp                tempfile\n",
            "_stat               filecmp             osqppurepy          tenacity\n",
            "_string             fileinput           osr                 tensorboard\n",
            "_strptime           filelock            ossaudiodev         tensorboard_data_server\n",
            "_struct             firebase_admin      packaging           tensorboard_plugin_wit\n",
            "_symtable           fix_yahoo_finance   palettable          tensorflow\n",
            "_sysconfigdata_m_linux_x86_64-linux-gnu flask               pandas              tensorflow_datasets\n",
            "_sysconfigdata_m_x86_64-linux-gnu flatbuffers         pandas_datareader   tensorflow_estimator\n",
            "_testbuffer         fnmatch             pandas_gbq          tensorflow_gcs_config\n",
            "_testcapi           folium              pandas_profiling    tensorflow_hub\n",
            "_testimportmultiple formatter           pandocfilters       tensorflow_io_gcs_filesystem\n",
            "_testmultiphase     fractions           panel               tensorflow_metadata\n",
            "_thread             frozenlist          param               tensorflow_probability\n",
            "_threading_local    fsspec              parser              termcolor\n",
            "_tkinter            ftplib              parso               terminado\n",
            "_tracemalloc        functools           partd               termios\n",
            "_warnings           future              past                test\n",
            "_weakref            gast                pasta               testpath\n",
            "_weakrefset         gc                  pastel              tests\n",
            "_xxtestfuzz         gdal                pathlib             text_unidecode\n",
            "_yaml               gdalconst           pathy               textblob\n",
            "abc                 gdalnumeric         patsy               textwrap\n",
            "absl                gdown               pdb                 thinc\n",
            "aeppl               genericpath         pep517              this\n",
            "aesara              gensim              pexpect             threading\n",
            "aifc                geographiclib       pickle              threadpoolctl\n",
            "aiohttp             geopy               pickleshare         tifffile\n",
            "aiosignal           getopt              pickletools         time\n",
            "alabaster           getpass             pip                 timeit\n",
            "albumentations      gettext             pipes               tkinter\n",
            "altair              gi                  piptools            tlz\n",
            "antigravity         gin                 pkg_resources       token\n",
            "apiclient           glob                pkgutil             tokenize\n",
            "appdirs             glob2               platform            toml\n",
            "apt                 gnm                 plistlib            tomli\n",
            "apt_inst            google_auth_httplib2 plotly              toolz\n",
            "apt_pkg             google_auth_oauthlib plotlywidget        torch\n",
            "aptsources          google_crc32c       plotnine            torchaudio\n",
            "argparse            google_drive_downloader pluggy              torchgen\n",
            "array               googleapiclient     pooch               torchsummary\n",
            "arviz               googlesearch        poplib              torchtext\n",
            "ast                 graphviz            portpicker          torchvision\n",
            "astor               greenlet            posix               tornado\n",
            "astropy             gridfs              posixpath           tqdm\n",
            "astunparse          grp                 pprint              trace\n",
            "async_timeout       grpc                prefetch_generator  traceback\n",
            "asynchat            grpc_status         preshed             tracemalloc\n",
            "asyncio             gspread             prettytable         traitlets\n",
            "asyncore            gspread_dataframe   profile             tree\n",
            "asynctest           gym                 progressbar         tty\n",
            "atari_py            gym_notices         prometheus_client   turtle\n",
            "atexit              gzip                promise             tweepy\n",
            "atomicwrites        h5py                prompt_toolkit      typeguard\n",
            "attr                hashlib             prophet             typer\n",
            "attrs               heapdict            proto               types\n",
            "audioop             heapq               pstats              typing\n",
            "audioread           hijri_converter     psutil              typing_extensions\n",
            "autograd            hmac                psycopg2            tzlocal\n",
            "autoreload          holidays            pty                 unicodedata\n",
            "babel               holoviews           ptyprocess          unification\n",
            "backcall            html                pwd                 unittest\n",
            "base64              html5lib            py                  uritemplate\n",
            "bdb                 http                py_compile          urllib\n",
            "bin                 httpimport          pyarrow             urllib3\n",
            "binascii            httplib2            pyasn1              uu\n",
            "binhex              httpstan            pyasn1_modules      uuid\n",
            "bisect              humanize            pyclbr              vega_datasets\n",
            "bleach              hyperopt            pycocotools         venv\n",
            "blis                idna                pycparser           vis\n",
            "bokeh               imageio             pyct                warnings\n",
            "boost               imagesize           pydantic            wasabi\n",
            "branca              imaplib             pydata_google_auth  wave\n",
            "bs4                 imblearn            pydoc               wcwidth\n",
            "bson                imgaug              pydoc_data          weakref\n",
            "builtins            imghdr              pydot               webargs\n",
            "bz2                 imp                 pydot_ng            webbrowser\n",
            "cProfile            importlib           pydotplus           webencodings\n",
            "cachecontrol        importlib_metadata  pydrive             werkzeug\n",
            "cached_property     importlib_resources pyemd               wheel\n",
            "cachetools          imutils             pyexpat             widgetsnbextension\n",
            "caffe2              inflect             pygments            wordcloud\n",
            "calendar            inspect             pygtkcompat         wrapt\n",
            "catalogue           intervaltree        pylab               wsgiref\n",
            "certifi             io                  pylev               xarray\n",
            "cffi                ipaddress           pymc                xarray_einstats\n",
            "cftime              ipykernel           pymeeus             xdrlib\n",
            "cgi                 ipykernel_launcher  pymongo             xgboost\n",
            "cgitb               ipython_genutils    pymystem3           xkit\n",
            "chardet             ipywidgets          pyparsing           xlrd\n",
            "charset_normalizer  isympy              pyrsistent          xlwt\n",
            "chunk               itertools           pysndfile           xml\n",
            "clang               itsdangerous        pytest              xmlrpc\n",
            "click               jax                 python_utils        xxlimited\n",
            "client              jaxlib              pytz                xxsubtype\n",
            "clikit              jieba               pyviz_comms         yaml\n",
            "cloudpickle         jinja2              pywt                yarl\n",
            "cmake               joblib              pyximport           yellowbrick\n",
            "cmath               jpeg4py             qdldl               zict\n",
            "cmd                 json                qudida              zipapp\n",
            "cmdstanpy           jsonschema          queue               zipfile\n",
            "code                jupyter             quopri              zipimport\n",
            "codecs              jupyter_client      random              zipp\n",
            "codeop              jupyter_console     re                  zlib\n",
            "colab               jupyter_core        readline            zmq\n",
            "collections         jupyterlab_plotly   regex               \n",
            "\n",
            "Enter any module name to get more help.  Or, type \"modules spam\" to search\n",
            "for modules whose name or summary contain the string \"spam\".\n",
            "\n"
          ]
        }
      ]
    },
    {
      "cell_type": "markdown",
      "source": [
        "# Loops in Python\n",
        "\n",
        "- Need for loops\n",
        "- While Loop\n",
        "- For Loop"
      ],
      "metadata": {
        "id": "2Ow6_gWG7ukc"
      }
    },
    {
      "cell_type": "code",
      "source": [
        "# While loop example -> program to print the table\n",
        "# Program -> Sum of all digits of a given number\n",
        "# Program -> keep accepting numbers from users till he/she enters a 0 and then find the avg"
      ],
      "metadata": {
        "id": "Ig7NIb7L7txg"
      },
      "execution_count": null,
      "outputs": []
    },
    {
      "cell_type": "code",
      "source": [
        "number = int(input('enter the number'))\n",
        "\n",
        "i = 1\n",
        "\n",
        "while i<11:\n",
        "  print(number,'*',i,'=',number * i)\n",
        "  i += 1"
      ],
      "metadata": {
        "colab": {
          "base_uri": "https://localhost:8080/"
        },
        "id": "brWSxgiu9rrQ",
        "outputId": "eb64e76c-ee60-4584-9d00-9fd6729d39e8"
      },
      "execution_count": null,
      "outputs": [
        {
          "output_type": "stream",
          "name": "stdout",
          "text": [
            "enter the number12\n",
            "12 * 1 = 12\n",
            "12 * 2 = 24\n",
            "12 * 3 = 36\n",
            "12 * 4 = 48\n",
            "12 * 5 = 60\n",
            "12 * 6 = 72\n",
            "12 * 7 = 84\n",
            "12 * 8 = 96\n",
            "12 * 9 = 108\n",
            "12 * 10 = 120\n"
          ]
        }
      ]
    },
    {
      "cell_type": "code",
      "source": [
        "# while loop with else \n",
        "\n",
        "x = 1\n",
        "\n",
        "while x < 3:\n",
        "  print(x)\n",
        "  x += 1\n",
        "\n",
        "else:\n",
        "  print('limit crossed')"
      ],
      "metadata": {
        "id": "Ltsr9n3H73fp",
        "colab": {
          "base_uri": "https://localhost:8080/"
        },
        "outputId": "a47f2a11-bf75-4a0a-923c-49f318514900"
      },
      "execution_count": null,
      "outputs": [
        {
          "output_type": "stream",
          "name": "stdout",
          "text": [
            "1\n",
            "2\n",
            "limit crossed\n"
          ]
        }
      ]
    },
    {
      "cell_type": "code",
      "source": [
        "# Guessing game\n",
        "\n",
        "# generate a random integer between 1 and 100\n",
        "import random\n",
        "jackpot = random.randint(1,100)\n",
        "\n",
        "guess = int(input('guess karo'))\n",
        "counter = 1\n",
        "while guess != jackpot:\n",
        "  if guess < jackpot:\n",
        "    print('galat!guess higher')\n",
        "  else:\n",
        "    print('galat!guess lower')\n",
        "\n",
        "  guess = int(input('guess karo'))\n",
        "  counter += 1\n",
        "\n",
        "else:\n",
        "  print('correct guess')\n",
        "  print('attempts',counter)\n",
        "\n",
        "  \n"
      ],
      "metadata": {
        "id": "29y5r2cr8MRP",
        "colab": {
          "base_uri": "https://localhost:8080/"
        },
        "outputId": "c4d707ce-6f6c-49cc-8997-a85ecf01e74e"
      },
      "execution_count": null,
      "outputs": [
        {
          "output_type": "stream",
          "name": "stdout",
          "text": [
            "guess karo7\n",
            "galat!guess higher\n",
            "guess karo50\n",
            "galat!guess lower\n",
            "guess karo30\n",
            "galat!guess higher\n",
            "guess karo40\n",
            "galat!guess lower\n",
            "guess karo35\n",
            "galat!guess lower\n",
            "guess karo32\n",
            "galat!guess higher\n",
            "guess karo33\n",
            "correct guess\n",
            "attempts 7\n"
          ]
        }
      ]
    },
    {
      "cell_type": "code",
      "source": [
        "# For loop demo\n",
        "\n",
        "for i in {1,2,3,4,5}:\n",
        "  print(i)"
      ],
      "metadata": {
        "id": "bjjx0fMr8SWh",
        "colab": {
          "base_uri": "https://localhost:8080/"
        },
        "outputId": "a3bf4676-a68c-499f-fc00-e0fe0f04285b"
      },
      "execution_count": null,
      "outputs": [
        {
          "output_type": "stream",
          "name": "stdout",
          "text": [
            "1\n",
            "2\n",
            "3\n",
            "4\n",
            "5\n"
          ]
        }
      ]
    },
    {
      "cell_type": "code",
      "source": [
        "# For loop examples"
      ],
      "metadata": {
        "id": "5ZLWEyFn8g1R"
      },
      "execution_count": null,
      "outputs": []
    },
    {
      "cell_type": "markdown",
      "source": [
        "### Program - The current population of a town is 10000. The population of the town is increasing at the rate of 10% per year. You have to write a program to find out the population at the end of each of the last 10 years."
      ],
      "metadata": {
        "id": "EXnzCtohWx2V"
      }
    },
    {
      "cell_type": "code",
      "source": [
        "curr_pop = 10000\n",
        "\n",
        "for i in range(10,0,-1):\n",
        "  print(i,curr_pop)\n",
        "  curr_pop = curr_pop - 0.1*curr_pop\n"
      ],
      "metadata": {
        "id": "Nc_6lslRW03g",
        "colab": {
          "base_uri": "https://localhost:8080/"
        },
        "outputId": "c8f8383d-eef0-440d-9a7e-2a0f911d51fa"
      },
      "execution_count": null,
      "outputs": [
        {
          "output_type": "stream",
          "name": "stdout",
          "text": [
            "10 10000\n",
            "9 9000.0\n",
            "8 8100.0\n",
            "7 7290.0\n",
            "6 6561.0\n",
            "5 5904.9\n",
            "4 5314.41\n",
            "3 4782.969\n",
            "2 4304.6721\n",
            "1 3874.20489\n"
          ]
        }
      ]
    },
    {
      "cell_type": "markdown",
      "source": [
        "### Sequence sum\n",
        "\n",
        "1/1! + 2/2! + 3/3! + ..."
      ],
      "metadata": {
        "id": "4xVI9HkgcEla"
      }
    },
    {
      "cell_type": "code",
      "source": [
        "# code here"
      ],
      "metadata": {
        "id": "wGC1eCDecPcB"
      },
      "execution_count": null,
      "outputs": []
    },
    {
      "cell_type": "code",
      "source": [
        "# For loop vs While loops (When to use what?)"
      ],
      "metadata": {
        "id": "PNLWd1WR8dSw"
      },
      "execution_count": null,
      "outputs": []
    },
    {
      "cell_type": "markdown",
      "source": [
        "# Nested Loops"
      ],
      "metadata": {
        "id": "1bdP8FTX87Du"
      }
    },
    {
      "cell_type": "code",
      "source": [
        "# Examples"
      ],
      "metadata": {
        "id": "-YY5edV98lXq"
      },
      "execution_count": null,
      "outputs": []
    },
    {
      "cell_type": "code",
      "source": [
        "# Program - Unique combination of 1,2,3,4\n",
        "# Program - Pattern 1 and 2"
      ],
      "metadata": {
        "id": "Ym8nRkqxGXLN"
      },
      "execution_count": null,
      "outputs": []
    },
    {
      "cell_type": "markdown",
      "source": [
        "### Pattern 1\n",
        "\n",
        "\n",
        "*** <br>\n",
        "**** <br>\n",
        "***<br>\n"
      ],
      "metadata": {
        "id": "_Hz8L0f3c_3P"
      }
    },
    {
      "cell_type": "code",
      "source": [],
      "metadata": {
        "id": "YsL_YmxRdNrn"
      },
      "execution_count": null,
      "outputs": []
    },
    {
      "cell_type": "markdown",
      "source": [
        "### Pattern 2\n",
        "\n",
        "1<br>\n",
        "121<br>\n",
        "12321<br>\n",
        "1234321<br>"
      ],
      "metadata": {
        "id": "eVAO3tVmdOWV"
      }
    },
    {
      "cell_type": "code",
      "source": [],
      "metadata": {
        "id": "sHW4YJqcdXzw"
      },
      "execution_count": null,
      "outputs": []
    },
    {
      "cell_type": "markdown",
      "source": [
        "# Loop Control Statement\n",
        "\n",
        "- Break\n",
        "- Continue\n",
        "- Pass"
      ],
      "metadata": {
        "id": "8GccSRIt891U"
      }
    },
    {
      "cell_type": "code",
      "source": [
        "# Break demo"
      ],
      "metadata": {
        "id": "kN9s2dG89DlJ"
      },
      "execution_count": null,
      "outputs": []
    },
    {
      "cell_type": "code",
      "source": [
        "# Break example (Linear Search) -> Prime number in a given range"
      ],
      "metadata": {
        "id": "u09EdMCm9FK_"
      },
      "execution_count": null,
      "outputs": []
    },
    {
      "cell_type": "code",
      "source": [
        "# Continue demo"
      ],
      "metadata": {
        "id": "3q5asa2l9GYy"
      },
      "execution_count": null,
      "outputs": []
    },
    {
      "cell_type": "code",
      "source": [
        "# Continue Example (Ecommerce)"
      ],
      "metadata": {
        "id": "cA8CiMgn9IIT"
      },
      "execution_count": null,
      "outputs": []
    },
    {
      "cell_type": "code",
      "source": [
        "# Pass demo"
      ],
      "metadata": {
        "id": "P7GB16j59J-3"
      },
      "execution_count": null,
      "outputs": []
    }
  ]
}