{
  "nbformat": 4,
  "nbformat_minor": 0,
  "metadata": {
    "colab": {
      "provenance": [],
      "include_colab_link": true
    },
    "kernelspec": {
      "name": "python3",
      "display_name": "Python 3"
    },
    "language_info": {
      "name": "python"
    }
  },
  "cells": [
    {
      "cell_type": "markdown",
      "metadata": {
        "id": "view-in-github",
        "colab_type": "text"
      },
      "source": [
        "<a href=\"https://colab.research.google.com/github/adityapant1/ML_Practice/blob/main/session_2_task.ipynb\" target=\"_parent\"><img src=\"https://colab.research.google.com/assets/colab-badge.svg\" alt=\"Open In Colab\"/></a>"
      ]
    },
    {
      "cell_type": "markdown",
      "source": [
        "### `Problem 1`: Write a program that will give you in hand monthly salary after deduction on CTC - HRA(10%), DA(5%), PF(3%) and taxes deduction as below:\n",
        "\n",
        "> Salary(Lakhs) : Tax(%)\n",
        "\n",
        "*   Below 5 : 0%\n",
        "*   5-10 : 10%\n",
        "*   10-20 : 20%\n",
        "*   aboove 20 : 30%"
      ],
      "metadata": {
        "id": "w6RlOAXV2PWh"
      }
    },
    {
      "cell_type": "code",
      "source": [
        "# Write code here\n",
        "ctc_yr = float(input(\"Please enter the CTC (in lacs): \"))\n",
        "hra_percent = 10\n",
        "da_percent = 5\n",
        "pf_percent = 3\n",
        "ctc_yr_post_deduction = ctc_yr * (100-hra_percent-da_percent-pf_percent)/100\n",
        "\n",
        "tax_1 = 0 \n",
        "tax_2 = 0\n",
        "tax_3 = 0\n",
        "tax_4 = 0\n",
        "\n",
        "if ctc_yr_post_deduction < 5:\n",
        "  tax_percent = 0\n",
        "  tax_1 = ctc_yr_post_deduction * (tax_percent/100)\n",
        "\n",
        "elif ctc_yr_post_deduction <= 10:\n",
        "  tax_percent = 10\n",
        "  tax_2 = (ctc_yr_post_deduction - 5) * (tax_percent/100)\n",
        "\n",
        "elif ctc_yr_post_deduction <= 20:\n",
        "  tax_percent = 20\n",
        "  tax_3 = (ctc_yr_post_deduction - 10) * (tax_percent/100)\n",
        "  tax_2 = (10 - 5) * (tax_percent/100)\n",
        "\n",
        "else:\n",
        "  tax_percent = 30\n",
        "  tax_4 = (ctc_yr_post_deduction - 20) * (tax_percent/100) \n",
        "  tax_3 = (20 - 10) * (tax_percent/100)\n",
        "  tax_2 = (10 - 5) * (tax_percent/100)\n",
        "\n",
        "salary_mth_in_hand = (ctc_yr_post_deduction - (tax_1 + tax_2 + tax_3 + tax_4)) * (100000 / 12) \n",
        "\n",
        "print(\"The monthly in-hand salary after deduction: \",salary_mth_in_hand)"
      ],
      "metadata": {
        "id": "7tMHvKYO2etI",
        "outputId": "3bacee9f-723a-430a-ddc6-71b04c7f1441",
        "colab": {
          "base_uri": "https://localhost:8080/"
        }
      },
      "execution_count": 8,
      "outputs": [
        {
          "output_type": "stream",
          "name": "stdout",
          "text": [
            "Please enter the CTC (in lacs): 26.9\n",
            "The monthly in-hand salary after deduction:  141171.66666666666\n"
          ]
        }
      ]
    },
    {
      "cell_type": "markdown",
      "source": [
        "### `Problem 2`: Write a program that take a user input of three angles and will find out whether it can form a triangle or not."
      ],
      "metadata": {
        "id": "tYzCGqwl2hfN"
      }
    },
    {
      "cell_type": "code",
      "source": [
        "# Write code here\n",
        "angle1 = float(input(\"Enter the angle 1: \"))\n",
        "angle2 = float(input(\"Enter the angle 2: \"))\n",
        "angle3 = float(input(\"Enter the angle 3: \"))\n",
        "\n",
        "total = angle1 + angle2 + angle3\n",
        "\n",
        "if total == 180:\n",
        "  print(\"It will form a triangle\")\n",
        "else:\n",
        "  print(\"It will NOT form a triangle\")"
      ],
      "metadata": {
        "id": "FYEqln-I2kxV",
        "outputId": "ed406642-849c-462f-a5f9-2ddc59b18020",
        "colab": {
          "base_uri": "https://localhost:8080/"
        }
      },
      "execution_count": 10,
      "outputs": [
        {
          "output_type": "stream",
          "name": "stdout",
          "text": [
            "Enter the angle 1: 60\n",
            "Enter the angle 2: 60\n",
            "Enter the angle 3: 60\n",
            "It will form a triangle\n"
          ]
        }
      ]
    },
    {
      "cell_type": "markdown",
      "source": [
        "### `Problem 3`: Write a program that will take user input of cost price and selling price and determines whether its a loss or a profit."
      ],
      "metadata": {
        "id": "5vEpPh8C2pE4"
      }
    },
    {
      "cell_type": "code",
      "source": [
        "# Write code here\n",
        "cp = float(input(\"Enter cost price: \"))\n",
        "sp = float(input(\"Enter selling price: \"))\n",
        "\n",
        "if sp > cp:\n",
        "  print(\"Profit\")\n",
        "elif sp == cp:\n",
        "  print(\"No Profit No Loss\")\n",
        "else:\n",
        "  print(\"Loss\")  "
      ],
      "metadata": {
        "id": "jDwBXlkO2sfl",
        "outputId": "c2c789a5-3cf2-4435-a6fa-d3454c075c9d",
        "colab": {
          "base_uri": "https://localhost:8080/"
        }
      },
      "execution_count": 12,
      "outputs": [
        {
          "output_type": "stream",
          "name": "stdout",
          "text": [
            "Enter cost price: 60\n",
            "Enter selling price: 70\n",
            "Profit\n"
          ]
        }
      ]
    },
    {
      "cell_type": "markdown",
      "source": [
        "### `Problem 4`: Write a menu-driven program - \n",
        "1. cm to ft \n",
        "2. km to miles \n",
        "3. USD to INR \n",
        "4. exit"
      ],
      "metadata": {
        "id": "J_FG_cJW2ugT"
      }
    },
    {
      "cell_type": "code",
      "source": [
        "# Write code here\n",
        "menu_option = int(input(\"\"\"1. cm to ft\n",
        "2. km to miles\n",
        "3. USD to INR\n",
        "4. exit\n",
        "\"\"\"))\n",
        "\n",
        "if menu_option == 1:\n",
        "  print(\"cm to ft\")\n",
        "elif menu_option == 2:\n",
        "  print(\"km to miles\")\n",
        "elif  menu_option == 3:\n",
        "  print(\"USD to INR\")\n",
        "else: \n",
        "  print(\"exit\")"
      ],
      "metadata": {
        "id": "yBHhaCGQ2zpD",
        "outputId": "7a8c985a-11ee-4cb5-d49b-efde517aad91",
        "colab": {
          "base_uri": "https://localhost:8080/"
        }
      },
      "execution_count": 14,
      "outputs": [
        {
          "output_type": "stream",
          "name": "stdout",
          "text": [
            "1. cm to ft\n",
            "2. km to miles\n",
            "3. USD to INR\n",
            "4. exit\n",
            "1\n",
            "cm to ft\n"
          ]
        }
      ]
    },
    {
      "cell_type": "markdown",
      "source": [
        "### `Problem 5` - Exercise 12: Display Fibonacci series up to 10 terms.\n",
        "\n",
        "*Note: The Fibonacci Sequence is a series of numbers. The next number is found by adding up the two numbers before it. The first two numbers are 0 and 1. For example, 0, 1, 1, 2, 3, 5, 8, 13, 21. The next number in this series above is 13+21 = 34*"
      ],
      "metadata": {
        "id": "LJJ30_Yw27ZU"
      }
    },
    {
      "cell_type": "code",
      "source": [
        "# Write code here\n",
        "num_min_2 = 0\n",
        "num_min_1 = 1\n",
        "\n",
        "print(num_min_2, end=\", \")\n",
        "print(num_min_1, end=\", \")\n",
        "\n",
        "for i in range(1,8):\n",
        "  num = num_min_2 + num_min_1\n",
        "  if i == 7:\n",
        "    print(num, end=\".\")  \n",
        "  else:\n",
        "    print(num, end=\", \")\n",
        "  num_min_2 = num_min_1\n",
        "  num_min_1 = num"
      ],
      "metadata": {
        "id": "ae_1rpe52-5R",
        "outputId": "ee4cef5f-2e28-49c2-ea60-bd1c55b6d9b0",
        "colab": {
          "base_uri": "https://localhost:8080/"
        }
      },
      "execution_count": 17,
      "outputs": [
        {
          "output_type": "stream",
          "name": "stdout",
          "text": [
            "0, 1, 1, 2, 3, 5, 8, 13, 21."
          ]
        }
      ]
    },
    {
      "cell_type": "markdown",
      "source": [
        "### `Problem 6` - Find the factorial of a given number.\n",
        "\n",
        "Write a program to use the loop to find the factorial of a given number.\n",
        "\n",
        "The factorial (symbol: `!`) means to multiply all whole numbers from the chosen number down to 1.\n",
        "\n",
        "For example: calculate the factorial of 5\n",
        "\n",
        "```bash\n",
        "5! = 5 × 4 × 3 × 2 × 1 = 120\n",
        "```\n",
        "\n",
        "Output: \n",
        "\n",
        "```bash\n",
        "120\n",
        "```"
      ],
      "metadata": {
        "id": "pk_I_S4m3PT5"
      }
    },
    {
      "cell_type": "code",
      "source": [
        "# Write code here\n",
        "n = int(input(\"Enter the number: \"))\n",
        "fact = 1\n",
        "\n",
        "for i in range(1,n+1):\n",
        "  fact = fact * i\n",
        "print(\"Factorial of number\",n, \"is:\",fact )"
      ],
      "metadata": {
        "id": "lzXxHegx3Rkc",
        "outputId": "ef3a61e3-922e-4dd9-e7d9-a6ffd937d410",
        "colab": {
          "base_uri": "https://localhost:8080/"
        }
      },
      "execution_count": 19,
      "outputs": [
        {
          "output_type": "stream",
          "name": "stdout",
          "text": [
            "Enter the number: 5\n",
            "Factorial of number 5 is: 120\n"
          ]
        }
      ]
    },
    {
      "cell_type": "markdown",
      "source": [
        "### `Problem 7` - Reverse a given integer number.\n",
        "\n",
        "Example:\n",
        "\n",
        "`Input:`\n",
        "\n",
        "```bash\n",
        "76542\n",
        "```\n",
        "\n",
        "`Output:`\n",
        "\n",
        "```bash\n",
        "24567\n",
        "```"
      ],
      "metadata": {
        "id": "-17IOi-g3UpU"
      }
    },
    {
      "cell_type": "code",
      "source": [
        "# Write code here\n",
        "num = (input(\"Enter the given number:\"))\n",
        "rev = 0\n",
        "length = len(num)\n",
        "num = int(num)\n",
        "\n",
        "for i in range(1, length+1):\n",
        "  lst = num % 10\n",
        "  num = int(num / 10)\n",
        "  rev = rev * 10 + lst\n",
        "\n",
        "print(\"The reverse of number is:\", rev)"
      ],
      "metadata": {
        "id": "wJwLpKCr3aVA",
        "outputId": "40b14f07-a36c-4508-e2b1-87b49b4be4d1",
        "colab": {
          "base_uri": "https://localhost:8080/"
        }
      },
      "execution_count": 25,
      "outputs": [
        {
          "output_type": "stream",
          "name": "stdout",
          "text": [
            "Enter the given number:76542\n",
            "The reverse of number is: 24567\n"
          ]
        }
      ]
    },
    {
      "cell_type": "markdown",
      "source": [
        "### `Problem 8`: Take a user input as integer N. Find out the sum from 1 to N. If any number if divisible by 5, then skip that number. And if the sum is greater than 300, don't need to calculate the sum further more. Print the final result. And don't use for loop to solve this problem.\n",
        "\n",
        "**Example 1:**\n",
        "\n",
        "`Input:`\n",
        "\n",
        "```bash\n",
        "30\n",
        "```\n",
        "\n",
        "`Output:`\n",
        "\n",
        "```bash\n",
        "276\n",
        "```"
      ],
      "metadata": {
        "id": "-t8PJQaY3sHf"
      }
    },
    {
      "cell_type": "code",
      "source": [
        "# Write code here\n",
        "N = int(input(\"Enter the number N: \"))\n",
        "sum = 0\n",
        "i = 1\n",
        "while (sum <= 300 and i <= N):\n",
        "  if i % 5 == 0:\n",
        "    pass\n",
        "  else:  \n",
        "    sum = sum + i\n",
        "  i = i + 1\n",
        "else:\n",
        "  if sum > 300:\n",
        "    sum = sum - i + 1 \n",
        "    print(sum)\n"
      ],
      "metadata": {
        "id": "GZB6mGMP3ujT",
        "outputId": "0b1f608c-5ef1-468b-be37-8696ebd858f9",
        "colab": {
          "base_uri": "https://localhost:8080/"
        }
      },
      "execution_count": 37,
      "outputs": [
        {
          "output_type": "stream",
          "name": "stdout",
          "text": [
            "Enter the number N: 30\n",
            "276\n"
          ]
        }
      ]
    },
    {
      "cell_type": "markdown",
      "source": [
        "### `Problem 9`: Write a program that keeps on accepting a number from the user until the user enters Zero. Display the sum and average of all the numbers."
      ],
      "metadata": {
        "id": "Q7ggImeA3xm4"
      }
    },
    {
      "cell_type": "code",
      "source": [
        "# Write code here"
      ],
      "metadata": {
        "id": "t_YDSZDe4Kdo"
      },
      "execution_count": null,
      "outputs": []
    },
    {
      "cell_type": "markdown",
      "source": [
        "###`Problem 9`: Write a program which will find all such numbers which are divisible by 7 but are not a multiple of 5, between 2000 and 3200 (both included). The numbers obtained should be printed in a comma-separated sequence on a single line."
      ],
      "metadata": {
        "id": "6EhvEMvm4R7s"
      }
    },
    {
      "cell_type": "code",
      "source": [
        "# Write code here"
      ],
      "metadata": {
        "id": "d6RgP1B34T6c"
      },
      "execution_count": null,
      "outputs": []
    },
    {
      "cell_type": "markdown",
      "source": [
        "###`Problem 10`: Write a program, which will find all such numbers between 1000 and 3000 (both included) such that each digit of the number is an even number. The numbers obtained should be printed in a space-separated sequence on a single line.\n",
        "\n"
      ],
      "metadata": {
        "id": "tYvmRR-G4Vp4"
      }
    },
    {
      "cell_type": "code",
      "source": [
        "# Write code here"
      ],
      "metadata": {
        "id": "k6Gs1kIf4k19"
      },
      "execution_count": null,
      "outputs": []
    },
    {
      "cell_type": "markdown",
      "source": [
        "###`Problem 11`: A robot moves in a plane starting from the original point (0,0). The robot can move toward UP, DOWN, LEFT and RIGHT with a given steps. \n",
        "The trace of robot movement is shown as the following:\n",
        "```\n",
        "UP 5\n",
        "DOWN 3\n",
        "LEFT 3\n",
        "RIGHT 2\n",
        "!\n",
        "```\n",
        "> The numbers after the direction are steps. \n",
        "\n",
        "> `!` means robot stop there.\n",
        "\n",
        "**Please write a program to compute the distance from current position after a sequence of movement and original point.** \n",
        "\n",
        "*If the distance is a float, then just print the nearest integer.*\n",
        "\n",
        "Example:\n",
        "\n",
        "`Input`:\n",
        "```\n",
        "UP 5\n",
        "DOWN 3\n",
        "LEFT 3\n",
        "RIGHT 2\n",
        "!\n",
        "```\n",
        "`Output`:\n",
        "```\n",
        "2\n",
        "```"
      ],
      "metadata": {
        "id": "GV18IINT4mf5"
      }
    },
    {
      "cell_type": "code",
      "source": [
        "# Write code here"
      ],
      "metadata": {
        "id": "6UNMC2aR4w5x"
      },
      "execution_count": null,
      "outputs": []
    },
    {
      "cell_type": "markdown",
      "source": [
        "###`Problem 12`:Write a program to print whether a given number is a prime number or not"
      ],
      "metadata": {
        "id": "3fsAIAhK5GYY"
      }
    },
    {
      "cell_type": "code",
      "source": [
        "# Write code here\n",
        "num = int(input(\"Enter the number: \"))\n",
        "for i in range(2,num):\n",
        "  if num % i == 0:\n",
        "    print(\"number is not prime\")\n",
        "    break\n",
        "else:\n",
        "  print(\"the number is prime\")"
      ],
      "metadata": {
        "id": "j6y91lxy5LZs",
        "outputId": "8ad47567-271c-43c1-e00d-5584374cb613",
        "colab": {
          "base_uri": "https://localhost:8080/"
        }
      },
      "execution_count": 42,
      "outputs": [
        {
          "output_type": "stream",
          "name": "stdout",
          "text": [
            "Enter the number: 17\n",
            "the number is prime\n"
          ]
        }
      ]
    },
    {
      "cell_type": "markdown",
      "source": [
        "###`Problem 13`:Print all the Armstrong numbers in a given range.\n",
        "Range will be provided by the user<br>\n",
        "Armstrong number is a number that is equal to the sum of cubes of its digits. For example 0, 1, 153, 370, 371 and 407 are the Armstrong numbers."
      ],
      "metadata": {
        "id": "asAbmbK-5NHv"
      }
    },
    {
      "cell_type": "code",
      "source": [
        "# Write code here\n",
        "range_start = int(input(\"start: \"))\n",
        "range_end = int(input(\"end: \"))\n",
        "\n",
        "for i in range(range_start, range_end+1):\n",
        "  "
      ],
      "metadata": {
        "id": "PZuI67pm5jCT"
      },
      "execution_count": null,
      "outputs": []
    },
    {
      "cell_type": "markdown",
      "source": [
        "###`Problem 14`:Calculate the angle between the hour hand and minute hand.\n",
        "\n",
        "Note: There can be two angles between hands; we need to print a minimum of two. Also, we need to print the floor of the final result angle. For example, if the final angle is 10.61, we need to print 10.\n",
        "\n",
        "Input:<br>\n",
        "H = 9 , M = 0<br>\n",
        "Output:<br>\n",
        "90<br>\n",
        "Explanation:<br>\n",
        "The minimum angle between hour and minute\n",
        "hand when the time is 9 is 90 degress."
      ],
      "metadata": {
        "id": "ClCQZMqT7gK0"
      }
    },
    {
      "cell_type": "code",
      "source": [
        "# Write code here"
      ],
      "metadata": {
        "id": "tNBTCZML7jy_"
      },
      "execution_count": null,
      "outputs": []
    },
    {
      "cell_type": "markdown",
      "source": [
        "###`Problem 15`:Given two rectangles, find if the given two rectangles overlap or not. A rectangle is denoted by providing the x and y coordinates of two points: the left top corner and the right bottom corner of the rectangle. Two rectangles sharing a side are considered overlapping. (L1 and R1 are the extreme points of the first rectangle and L2 and R2 are the extreme points of the second rectangle).\n",
        "\n",
        "Note: It may be assumed that the rectangles are parallel to the coordinate axis.\n",
        "\n",
        "<img src='https://www.geeksforgeeks.org/wp-content/uploads/rectanglesOverlap.png' width='300' height='200'>"
      ],
      "metadata": {
        "id": "GwacF9Co72Qc"
      }
    },
    {
      "cell_type": "code",
      "source": [
        "# Write code here"
      ],
      "metadata": {
        "id": "6rrw_lpH78Rs"
      },
      "execution_count": null,
      "outputs": []
    }
  ]
}